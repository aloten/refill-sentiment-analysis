{
 "cells": [
  {
   "cell_type": "code",
   "execution_count": 1,
   "metadata": {},
   "outputs": [],
   "source": [
    "import nltk\n",
    "import os\n",
    "import sys"
   ]
  },
  {
   "cell_type": "code",
   "execution_count": 2,
   "metadata": {},
   "outputs": [],
   "source": [
    "def load_data(directory):\n",
    "    result = []\n",
    "    for filename in [\"positives.txt\", \"negatives.txt\"]:\n",
    "        with open(os.path.join(directory, filename)) as f:\n",
    "            result.append([\n",
    "                extract_words(line)\n",
    "                for line in f.read().splitlines()\n",
    "            ])\n",
    "    return result\n",
    "\n",
    "\n",
    "def extract_words(document):\n",
    "    return set(\n",
    "        word.lower() for word in nltk.word_tokenize(document)\n",
    "        if any(c.isalpha() for c in word)\n",
    "    )"
   ]
  },
  {
   "cell_type": "code",
   "execution_count": 3,
   "metadata": {},
   "outputs": [],
   "source": [
    "def generate_frequency_map(words, positives, negatives):\n",
    "    frequency_map = {}\n",
    "    total_positive_tokens = 0\n",
    "    total_negative_tokens = 0\n",
    "    for word in words:\n",
    "        positive_frequency = 0\n",
    "        for document in positives:\n",
    "            for token in document:\n",
    "                if word == token:\n",
    "                    positive_frequency += 1\n",
    "                total_positive_tokens += 1\n",
    "        negative_frequency = 0\n",
    "        for document in negatives:\n",
    "            for token in document:\n",
    "                if word == token:\n",
    "                    negative_frequency += 1\n",
    "                total_negative_tokens += 1\n",
    "        frequency_map[word] = {\n",
    "            \"positive_frequency\": positive_frequency,\n",
    "            \"negative_frequency\": negative_frequency\n",
    "        }\n",
    "    frequency_map[\"total_positive_tokens\"] = total_positive_tokens\n",
    "    frequency_map[\"total_negative_tokens\"] = total_negative_tokens\n",
    "    return frequency_map"
   ]
  },
  {
   "cell_type": "code",
   "execution_count": 21,
   "metadata": {},
   "outputs": [],
   "source": [
    "def get_probability_value(token, frequency_map, type):\n",
    "    count_token = frequency_map[token][f\"{type}_frequency\"] + 1\n",
    "    count_total = frequency_map[f\"total_{type}_tokens\"]\n",
    "    p = count_token / count_total\n",
    "    if (type == 'negative'):\n",
    "        p_adjusted = p * calculate_negative_modifier(token)\n",
    "        return p_adjusted\n",
    "    return p"
   ]
  },
  {
   "cell_type": "code",
   "execution_count": 27,
   "metadata": {},
   "outputs": [],
   "source": [
    "def calculate_negative_modifier(token):\n",
    "    if token in {\n",
    "        \"cancel\",\n",
    "        \"no\",\n",
    "        \"not\",\n",
    "        \"don't\"}:\n",
    "        return 100\n",
    "    return 1"
   ]
  },
  {
   "cell_type": "code",
   "execution_count": 22,
   "metadata": {},
   "outputs": [],
   "source": [
    "def get_probability_value_sum(s, frequency_map, type):\n",
    "    document_words = extract_words(s)\n",
    "    p_sum = 0\n",
    "    for word in document_words:\n",
    "        p = get_probability_value(word, frequency_map, type)\n",
    "        p_sum += p\n",
    "    return p_sum"
   ]
  },
  {
   "cell_type": "code",
   "execution_count": 28,
   "metadata": {},
   "outputs": [],
   "source": [
    "## main ##\n",
    "\n",
    "# Read data from files\n",
    "corpus_path = \"../resources/corpus\"\n",
    "positives, negatives = load_data(corpus_path)\n",
    "\n",
    "# Create a set of all words\n",
    "words = set()\n",
    "for document in positives:\n",
    "    words.update(document)\n",
    "for document in negatives:\n",
    "    words.update(document)\n",
    "\n",
    "# generate frequency map\n",
    "frequency_map = generate_frequency_map(words, positives, negatives)\n",
    "\n",
    "# get string to classify\n",
    "s = \"please cancel\"\n",
    "# s = input(\"s: \")\n",
    "\n",
    "# sum the probability that each word is in positives\n",
    "p_positive = get_probability_value_sum(s, frequency_map, \"positive\")\n",
    "# sum the probability that each word is in negatives\n",
    "p_negative = get_probability_value_sum(s, frequency_map, \"negative\")\n",
    "adjusted_p_positive = p_positive / (p_positive + p_negative) * 100\n",
    "result = f\"{adjusted_p_positive:.3f} % probability of being positive\"\n",
    "print(result)\n"
   ]
  },
  {
   "cell_type": "code",
   "execution_count": 35,
   "metadata": {},
   "outputs": [
    {
     "name": "stdout",
     "output_type": "stream",
     "text": [
      "17.989 % probability of being positive\n"
     ]
    }
   ],
   "source": []
  },
  {
   "cell_type": "code",
   "execution_count": null,
   "metadata": {},
   "outputs": [],
   "source": []
  }
 ],
 "metadata": {
  "kernelspec": {
   "display_name": "Python 3.10.6 64-bit",
   "language": "python",
   "name": "python3"
  },
  "language_info": {
   "codemirror_mode": {
    "name": "ipython",
    "version": 3
   },
   "file_extension": ".py",
   "mimetype": "text/x-python",
   "name": "python",
   "nbconvert_exporter": "python",
   "pygments_lexer": "ipython3",
   "version": "3.10.6"
  },
  "orig_nbformat": 4,
  "vscode": {
   "interpreter": {
    "hash": "aee8b7b246df8f9039afb4144a1f6fd8d2ca17a180786b69acc140d282b71a49"
   }
  }
 },
 "nbformat": 4,
 "nbformat_minor": 2
}
